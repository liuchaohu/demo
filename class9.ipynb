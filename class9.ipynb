{
 "metadata": {
  "language_info": {
   "codemirror_mode": {
    "name": "ipython",
    "version": 3
   },
   "file_extension": ".py",
   "mimetype": "text/x-python",
   "name": "python",
   "nbconvert_exporter": "python",
   "pygments_lexer": "ipython3",
   "version": "3.8.7-final"
  },
  "orig_nbformat": 2,
  "kernelspec": {
   "name": "python3",
   "display_name": "Python 3.8.7 64-bit",
   "metadata": {
    "interpreter": {
     "hash": "19db869dbc7af56e929f1568fe81573f4d0bc833ebebe9d04bfb83e0a6b4bb7c"
    }
   }
  }
 },
 "nbformat": 4,
 "nbformat_minor": 2,
 "cells": [
  {
   "cell_type": "code",
   "execution_count": 2,
   "metadata": {},
   "outputs": [
    {
     "output_type": "stream",
     "name": "stdout",
     "text": [
      "发送成功\n"
     ]
    }
   ],
   "source": [
    "import smtplib\n",
    "from email.mime.text import MIMEText\n",
    "\n",
    "\n",
    "mail_host = 'smtp.163.com'\n",
    "mail_user = 'woshiliuchaohu@163.com'\n",
    "mail_pass = '*************' # 部分邮箱为授权码\n",
    "# 发送方邮箱地址\n",
    "sender = 'woshiliuchaohu@163.com'\n",
    "# 目的地址\n",
    "receivers = ['chaohu_liu@163.com']\n",
    "\n",
    "message = MIMEText('我是刘朝虎，今天我学会了用python', 'plain', 'utf-8')\n",
    "#邮件主题\n",
    "message['Subject'] = '这是一封测试邮件'\n",
    "# 发送方信息\n",
    "message['From'] = sender\n",
    "#接收方信息\n",
    "# message['To'] = receivers[1]\n",
    "\n",
    "try:\n",
    "    smtpObj = smtplib.SMTP()\n",
    "    # 连接服务器\n",
    "    smtpObj.connect(mail_host, 25)\n",
    "    # 登录到服务器\n",
    "    smtpObj.login(mail_user, mail_pass)\n",
    "    # for rec in receivers:\n",
    "        # message = name + '您好'\n",
    "\n",
    "    smtpObj.sendmail(sender, receivers, message.as_string())\n",
    "    smtpObj.quit()\n",
    "    print(\"发送成功\")\n",
    "except smtplib.SMTPException as e:\n",
    "    print('发生错误', e)"
   ]
  },
  {
   "cell_type": "code",
   "execution_count": 6,
   "metadata": {},
   "outputs": [
    {
     "output_type": "stream",
     "name": "stdout",
     "text": [
      "发送成功\n"
     ]
    }
   ],
   "source": [
    "import smtplib\n",
    "from email.mime.text import MIMEText\n",
    "\n",
    "mail_host = 'smtp.qq.com'\n",
    "mail_user = '1332824735@qq.com'\n",
    "mail_pass = '*************' # 部分邮箱为授权码\n",
    "# 发送方邮箱地址\n",
    "sender = '1332824735@qq.com'\n",
    "# 目的地址\n",
    "# receivers = ['chaohu_liu@163.com', 'liuchaohu1998@qq.com']\n",
    "receivers = ['chaohu_liu@163.com']\n",
    "\n",
    "# 具体内容 文本格式 编码格式\n",
    "message = MIMEText('我是刘朝虎，今天我学会了用python发邮箱', 'plain', 'utf-8')\n",
    "#邮件主题\n",
    "message['Subject'] = '这是一封测试邮件'\n",
    "# 发送方信息\n",
    "message['From'] = sender\n",
    "#接收方信息\n",
    "message['To'] = receivers[0]\n",
    "\n",
    "try:\n",
    "    smtpObj = smtplib.SMTP()\n",
    "    # 连接服务器\n",
    "    smtpObj.connect(mail_host, 25)\n",
    "    # smtpObj = smtplib.SMTP_SSL(mail_host)\n",
    "    # 登录到服务器\n",
    "    smtpObj.login(mail_user, mail_pass)\n",
    "    # 发送\n",
    "    for rec in receivers:\n",
    "        message['To'] = rec\n",
    "        smtpObj.sendmail(sender, receivers, message.as_string())\n",
    "    # smtpObj.sendmail(sender, receivers, message.as_string())\n",
    "    smtpObj.quit()\n",
    "    print(\"发送成功\")\n",
    "except smtplib.SMTPException as e:\n",
    "    print('发生错误', e)"
   ]
  },
  {
   "cell_type": "code",
   "execution_count": 9,
   "metadata": {},
   "outputs": [
    {
     "output_type": "stream",
     "name": "stdout",
     "text": [
      "error (554, b'DT:SPM 163 smtp10,DsCowAD35DWM60FgoA09nw--.59969S2 1614932878,please see http://mail.163.com/help/help_spam_16.htm?ip=49.94.16.25&hostid=smtp10&time=1614932878')\n"
     ]
    }
   ],
   "source": [
    "import smtplib\n",
    "from email.mime.text import MIMEText\n",
    "from email.mime.multipart import MIMEMultipart\n",
    "from email.mime.image import MIMEImage\n",
    "\n",
    "#设置登录及服务器信息\n",
    "mail_host = 'smtp.163.com'\n",
    "mail_user = 'woshiliuchaohu@163.com'\n",
    "mail_pass = '*************'\n",
    "sender = 'woshiliuchaohu@163.com'\n",
    "receivers = ['674105671@qq.com']\n",
    "\n",
    "#设置eamil信息\n",
    "#添加一个MIMEmultipart类，处理正文及附件\n",
    "message = MIMEMultipart()\n",
    "message['From'] = sender\n",
    "message['To'] = receivers[0]\n",
    "message['Subject'] = 'title'\n",
    "#推荐使用html格式的正文内容，这样比较灵活，可以附加图片地址，调整格式等\n",
    "with open('abc.html','r', encoding='utf-8') as f:\n",
    "    content = f.read()\n",
    "#设置html格式参数\n",
    "# print(content)\n",
    "part1 = MIMEText(content,'html','utf-8')\n",
    "#添加一个txt文本附件\n",
    "with open('a.txt','r', encoding='utf-8')as h:\n",
    "    content2 = h.read()\n",
    "#设置txt参数\n",
    "part2 = MIMEText(content2,'plain','utf-8')\n",
    "#附件设置内容类型，方便起见，设置为二进制流\n",
    "part2['Content-Type'] = 'application/octet-stream'\n",
    "#设置附件头，添加文件名\n",
    "part2['Content-Disposition'] = 'attachment;filename=\"aa.txt\"'  # 设置名字\n",
    "#添加照片附件\n",
    "with open('test.png','rb')as fp:\n",
    "    picture = MIMEImage(fp.read())\n",
    "    #与txt文件设置相似\n",
    "    picture['Content-Type'] = 'application/octet-stream'\n",
    "    picture['Content-Disposition'] = 'attachment;filename=\"test.png\"'\n",
    "#将内容附加到邮件主体中\n",
    "message.attach(part1)\n",
    "message.attach(part2)\n",
    "message.attach(picture)\n",
    "\n",
    "#登录并发送\n",
    "try:\n",
    "    smtpObj = smtplib.SMTP()\n",
    "    smtpObj.connect(mail_host,25)\n",
    "    smtpObj.login(mail_user,mail_pass)\n",
    "    smtpObj.sendmail(sender, receivers, message.as_string())\n",
    "    print('success')\n",
    "    smtpObj.quit()\n",
    "except smtplib.SMTPException as e:\n",
    "    print('error',e)"
   ]
  },
  {
   "cell_type": "code",
   "execution_count": 11,
   "metadata": {},
   "outputs": [
    {
     "output_type": "stream",
     "name": "stdout",
     "text": [
      "success\n"
     ]
    }
   ],
   "source": [
    "import smtplib\n",
    "from email.mime.text import MIMEText\n",
    "from email.mime.multipart import MIMEMultipart\n",
    "from email.mime.image import MIMEImage\n",
    "from email.mime.application import MIMEApplication\n",
    "\n",
    "#设置登录及服务器信息\n",
    "mail_host = 'smtp.163.com'\n",
    "mail_user = 'woshiliuchaohu@163.com'\n",
    "mail_pass = '*************'\n",
    "sender = 'woshiliuchaohu@163.com'\n",
    "receivers = ['chaohu_liu@163.com', '674105671@qq.com']\n",
    "\n",
    "#设置eamil信息\n",
    "#添加一个MIMEmultipart类，处理正文及附件\n",
    "message = MIMEMultipart()\n",
    "message['From'] = sender\n",
    "message['To'] = receivers[0]\n",
    "message['Subject'] = 'title'\n",
    "#推荐使用html格式的正文内容，这样比较灵活，可以附加图片地址，调整格式等\n",
    "with open('abc.html','r', encoding='utf-8') as f:\n",
    "    content = f.read()\n",
    "#设置html格式参数\n",
    "# print(content)\n",
    "part1 = MIMEText(content,'html','utf-8')\n",
    "\n",
    "\n",
    "part2 = MIMEApplication(open('2019级.xlsx','rb').read())\n",
    "part2.add_header('Content-Disposition', 'attachment', filename=\"2019.xlsx\")\n",
    "\n",
    "\n",
    "\n",
    "#将内容附加到邮件主体中\n",
    "message.attach(part1)\n",
    "message.attach(part2)\n",
    "# message.attach(picture)\n",
    "\n",
    "#登录并发送\n",
    "try:\n",
    "    smtpObj = smtplib.SMTP()\n",
    "    smtpObj.connect(mail_host,25)\n",
    "    smtpObj.login(mail_user,mail_pass)\n",
    "    smtpObj.sendmail(sender, receivers, message.as_string())\n",
    "    print('success')\n",
    "    smtpObj.quit()\n",
    "except smtplib.SMTPException as e:\n",
    "    print('error',e)"
   ]
  },
  {
   "cell_type": "code",
   "execution_count": 2,
   "metadata": {},
   "outputs": [],
   "source": [
    "import pytesseract\n",
    "from PIL import Image\n",
    "\n",
    "image = Image.open('word.jpg')\n",
    "\n",
    "# text = pytesseract.image_to_string(image)\n",
    "\n",
    "# print(text)"
   ]
  },
  {
   "cell_type": "code",
   "execution_count": 2,
   "metadata": {},
   "outputs": [],
   "source": [
    "#添加一个txt文本附件\n",
    "# with open('a.txt','r')as h:\n",
    "#     content2 = h.read()\n",
    "#设置txt参数\n",
    "# part2 = MIMEText(content2,'plain','utf-8')\n",
    "#附件设置内容类型，方便起见，设置为二进制流\n",
    "# part2['Content-Type'] = 'application/octet-stream'\n",
    "#设置附件头，添加文件名\n",
    "# part2['Content-Disposition'] = 'attachment;filename=\"aa.txt\"'  # 设置名字\n",
    "#添加照片附件\n",
    "# with open('test.png','rb')as fp:\n",
    "#     picture = MIMEImage(fp.read())\n",
    "#     #与txt文件设置相似\n",
    "#     picture['Content-Type'] = 'application/octet-stream'\n",
    "#     picture['Content-Disposition'] = 'attachment;filename=\"test.png\"'\n"
   ]
  },
  {
   "cell_type": "code",
   "execution_count": 7,
   "metadata": {},
   "outputs": [
    {
     "output_type": "execute_result",
     "data": {
      "text/plain": [
       "['我', '是', '刘朝虎', ',', '好好学习']"
      ]
     },
     "metadata": {},
     "execution_count": 7
    }
   ],
   "source": [
    "import jieba\n",
    "s = '我是刘朝虎,好好学习'\n",
    "jieba.lcut(s)\n",
    "jieba.lcut(s)"
   ]
  },
  {
   "cell_type": "code",
   "execution_count": 15,
   "metadata": {},
   "outputs": [
    {
     "output_type": "execute_result",
     "data": {
      "text/plain": [
       "['好好', '好学', '学习', '好好学', '好好学习', '，', '天天', '向上', '天天向上']"
      ]
     },
     "metadata": {},
     "execution_count": 15
    }
   ],
   "source": [
    "import jieba\n",
    "s = '好好学习，天天向上'\n",
    "# 精简模式\n",
    "jieba.lcut(s)\n",
    "# 全模式\n",
    "jieba.lcut(s, cut_all=True)\n",
    "# 搜索引擎模式\n",
    "jieba.lcut_for_search(s)\n"
   ]
  },
  {
   "cell_type": "code",
   "execution_count": 8,
   "metadata": {},
   "outputs": [
    {
     "output_type": "execute_result",
     "data": {
      "text/plain": [
       "['hello', ' ', 'world', ',', ' ', 'he', ' ', 'is', ' ', 'a', ' ', 'bog']"
      ]
     },
     "metadata": {},
     "execution_count": 8
    }
   ],
   "source": [
    "s = 'hello world, he is a bog'\n",
    "jieba.lcut(s)"
   ]
  },
  {
   "cell_type": "code",
   "execution_count": 9,
   "metadata": {},
   "outputs": [
    {
     "output_type": "execute_result",
     "data": {
      "text/plain": [
       "EdgeView([(1, 2), (1, 3), (2, 3)])"
      ]
     },
     "metadata": {},
     "execution_count": 9
    }
   ],
   "source": [
    "import networkx as nx\n",
    "G = nx.Graph()\n",
    "# 一次添加一个结点\n",
    "G.add_node(1)\n",
    "# 或从任何 iterable 容器，如列表\n",
    "G.add_nodes_from([2, 3])\n",
    "# 加边\n",
    "G.add_edge(1, 2)\n",
    "e = (2, 3)\n",
    "G.add_edge(*e)\n",
    "G.add_edges_from([(1, 2), (1, 3)])\n",
    "G.nodes\n",
    "G.edges"
   ]
  }
 ]
}